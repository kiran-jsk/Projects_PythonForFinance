{
 "cells": [
  {
   "cell_type": "code",
   "execution_count": 19,
   "metadata": {},
   "outputs": [],
   "source": [
    "import numpy as np\n",
    "import datetime as dt\n",
    "import matplotlib.pyplot as plt\n",
    "import pandas as pd\n",
    "from pandas_datareader import data as pdr\n",
    "from scipy import stats as sts\n",
    "%matplotlib inline"
   ]
  },
  {
   "cell_type": "code",
   "execution_count": 20,
   "metadata": {},
   "outputs": [],
   "source": [
    "start = dt.datetime(2019,4,1)\n",
    "end = dt.datetime(2020,3,30)"
   ]
  },
  {
   "cell_type": "code",
   "execution_count": 21,
   "metadata": {},
   "outputs": [],
   "source": [
    "#Comparing Returns of FAANG for FY19-20\n",
    "fb = pdr.DataReader(\"FB\", \"yahoo\", start, end)\n",
    "aapl = pdr.DataReader(\"AAPL\", \"yahoo\", start, end)\n",
    "amzn = pdr.DataReader(\"AMZN\", \"yahoo\", start, end)\n",
    "nflx = pdr.DataReader(\"NFLX\", \"yahoo\", start, end)\n",
    "goog = pdr.DataReader(\"GOOGL\", \"yahoo\", start, end)"
   ]
  },
  {
   "cell_type": "code",
   "execution_count": 22,
   "metadata": {},
   "outputs": [],
   "source": [
    "fb[\"PerRet\"] = ((fb[\"Close\"] - fb[\"Close\"].shift(1)) / fb[\"Close\"] ) * 100\n",
    "aapl[\"PerRet\"] = ((aapl[\"Close\"] - aapl[\"Close\"].shift(1)) / aapl[\"Close\"] ) * 100\n",
    "amzn[\"PerRet\"] = ((amzn[\"Close\"] - amzn[\"Close\"].shift(1)) / amzn[\"Close\"] ) * 100\n",
    "nflx[\"PerRet\"] = ((nflx[\"Close\"] - nflx[\"Close\"].shift(1)) / nflx[\"Close\"] ) * 100\n",
    "goog[\"PerRet\"] = ((goog[\"Close\"] - goog[\"Close\"].shift(1)) / goog[\"Close\"] ) * 100"
   ]
  },
  {
   "cell_type": "code",
   "execution_count": 23,
   "metadata": {},
   "outputs": [],
   "source": [
    "data = pd.DataFrame(index=[\"fb\",\"aapl\",\"amzn\",\"nflx\",\"goog\"], columns=[\"mean\",\"var\",\"stddev\",\"downdev\",\"sharpe\",\"sortino\"])"
   ]
  },
  {
   "cell_type": "code",
   "execution_count": 24,
   "metadata": {},
   "outputs": [],
   "source": [
    "data.loc[\"fb\",\"mean\"] = fb[\"PerRet\"].mean()\n",
    "data.loc[\"aapl\",\"mean\"] = aapl[\"PerRet\"].mean()\n",
    "data.loc[\"amzn\",\"mean\"] = amzn[\"PerRet\"].mean()\n",
    "data.loc[\"nflx\",\"mean\"] = nflx[\"PerRet\"].mean()\n",
    "data.loc[\"goog\",\"mean\"] = goog[\"PerRet\"].mean()"
   ]
  },
  {
   "cell_type": "code",
   "execution_count": 25,
   "metadata": {},
   "outputs": [],
   "source": [
    "data.loc[\"fb\",\"var\"] = fb[\"PerRet\"].var()\n",
    "data.loc[\"aapl\",\"var\"] = aapl[\"PerRet\"].var()\n",
    "data.loc[\"amzn\",\"var\"] = amzn[\"PerRet\"].var()\n",
    "data.loc[\"nflx\",\"var\"] = nflx[\"PerRet\"].var()\n",
    "data.loc[\"goog\",\"var\"] = goog[\"PerRet\"].var()"
   ]
  },
  {
   "cell_type": "code",
   "execution_count": 26,
   "metadata": {},
   "outputs": [],
   "source": [
    "data.loc[\"fb\",\"stddev\"] = fb[\"PerRet\"].std()\n",
    "data.loc[\"aapl\",\"stddev\"] = aapl[\"PerRet\"].std()\n",
    "data.loc[\"amzn\",\"stddev\"] = amzn[\"PerRet\"].std()\n",
    "data.loc[\"nflx\",\"stddev\"] = nflx[\"PerRet\"].std()\n",
    "data.loc[\"goog\",\"stddev\"] = goog[\"PerRet\"].std()"
   ]
  },
  {
   "cell_type": "code",
   "execution_count": 27,
   "metadata": {},
   "outputs": [],
   "source": [
    "#Calculating Downside Deviation\n",
    "fb[\"downside\"] = [0 if i>0 else i for i in fb[\"PerRet\"]]\n",
    "aapl[\"downside\"] = [0 if i>0 else i for i in aapl[\"PerRet\"]]\n",
    "amzn[\"downside\"] = [0 if i>0 else i for i in amzn[\"PerRet\"]]\n",
    "nflx[\"downside\"] = [0 if i>0 else i for i in nflx[\"PerRet\"]]\n",
    "goog[\"downside\"] = [0 if i>0 else i for i in goog[\"PerRet\"]]\n",
    "\n",
    "data.loc[\"fb\",\"downdev\"] = fb[\"downside\"].std()\n",
    "data.loc[\"aapl\",\"downdev\"] = aapl[\"downside\"].std()\n",
    "data.loc[\"amzn\",\"downdev\"] = amzn[\"downside\"].std()\n",
    "data.loc[\"nflx\",\"downdev\"] = nflx[\"downside\"].std()\n",
    "data.loc[\"goog\",\"downdev\"] = goog[\"downside\"].std()"
   ]
  },
  {
   "cell_type": "code",
   "execution_count": 28,
   "metadata": {},
   "outputs": [],
   "source": [
    "#Calculating Sharpe Ratio\n",
    "#Assuming risk-free rate = 0.19%\n",
    "data.loc[\"fb\",\"sharpe\"] = (data.loc[\"fb\",\"mean\"] - 0.19) / data.loc[\"fb\",\"stddev\"] \n",
    "data.loc[\"aapl\",\"sharpe\"] = (data.loc[\"aapl\",\"mean\"] - 0.19) / data.loc[\"aapl\",\"stddev\"]\n",
    "data.loc[\"amzn\",\"sharpe\"] = (data.loc[\"amzn\",\"mean\"] - 0.19) / data.loc[\"amzn\",\"stddev\"]\n",
    "data.loc[\"nflx\",\"sharpe\"] = (data.loc[\"nflx\",\"mean\"] - 0.19) / data.loc[\"nflx\",\"stddev\"]\n",
    "data.loc[\"goog\",\"sharpe\"] = (data.loc[\"goog\",\"mean\"] - 0.19) / data.loc[\"goog\",\"stddev\"]"
   ]
  },
  {
   "cell_type": "code",
   "execution_count": 29,
   "metadata": {},
   "outputs": [],
   "source": [
    "#Calculating sortino Ratio\n",
    "#Assuming risk-free rate = 0.19%\n",
    "data.loc[\"fb\",\"sortino\"] = (data.loc[\"fb\",\"mean\"] - 0.19) / data.loc[\"fb\",\"downdev\"] \n",
    "data.loc[\"aapl\",\"sortino\"] = (data.loc[\"aapl\",\"mean\"] - 0.19) / data.loc[\"aapl\",\"downdev\"]\n",
    "data.loc[\"amzn\",\"sortino\"] = (data.loc[\"amzn\",\"mean\"] - 0.19) / data.loc[\"amzn\",\"downdev\"]\n",
    "data.loc[\"nflx\",\"sortino\"] = (data.loc[\"nflx\",\"mean\"] - 0.19) / data.loc[\"nflx\",\"downdev\"]\n",
    "data.loc[\"goog\",\"sortino\"] = (data.loc[\"goog\",\"mean\"] - 0.19) / data.loc[\"goog\",\"downdev\"]"
   ]
  },
  {
   "cell_type": "code",
   "execution_count": 30,
   "metadata": {},
   "outputs": [
    {
     "data": {
      "image/png": "[encoded data removed]",
      "text/plain": [
       "<Figure size 432x288 with 1 Axes>"
      ]
     },
     "metadata": {
      "needs_background": "light"
     },
     "output_type": "display_data"
    }
   ],
   "source": [
    "#Analysing Sharpe and Sortino to conclude best-performing stock\n",
    "ind = np.arange(5)\n",
    "width = 0.35\n",
    "plt.bar(ind, data[\"sharpe\"], width, label=\"sharpe\")\n",
    "plt.bar(ind+width, data[\"sortino\"], width, label=\"sortino\")\n",
    "plt.title(\"Comparing Stock Returns\")\n",
    "plt.xticks(ind+width/2, (\"FB\", \"AAPL\", \"AMZN\", \"NFLX\", \"GOOG\"))\n",
    "plt.legend(loc=\"best\")\n",
    "plt.show()"
   ]
  },
  {
   "cell_type": "code",
   "execution_count": null,
   "metadata": {},
   "outputs": [],
   "source": [
    "#Hence comparatively best performed stock is AAPL"
   ]
  }
 ],
 "metadata": {
  "kernelspec": {
   "display_name": "Python 3",
   "language": "python",
   "name": "python3"
  },
  "language_info": {
   "codemirror_mode": {
    "name": "ipython",
    "version": 3
   },
   "file_extension": ".py",
   "mimetype": "text/x-python",
   "name": "python",
   "nbconvert_exporter": "python",
   "pygments_lexer": "ipython3",
   "version": "3.7.0"
  }
 },
 "nbformat": 4,
 "nbformat_minor": 2
}
